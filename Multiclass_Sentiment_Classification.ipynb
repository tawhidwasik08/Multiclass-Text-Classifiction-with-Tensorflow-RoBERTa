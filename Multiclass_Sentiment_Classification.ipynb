{
  "nbformat": 4,
  "nbformat_minor": 0,
  "metadata": {
    "colab": {
      "name": "Multiclass Sentiment Classification.ipynb",
      "provenance": [],
      "collapsed_sections": [
        "C48MNiZMQioL"
      ],
      "toc_visible": true,
      "include_colab_link": true
    },
    "kernelspec": {
      "display_name": "Python 3",
      "name": "python3"
    },
    "language_info": {
      "name": "python"
    },
    "accelerator": "GPU"
  },
  "cells": [
    {
      "cell_type": "markdown",
      "metadata": {
        "id": "view-in-github",
        "colab_type": "text"
      },
      "source": [
        "<a href=\"https://colab.research.google.com/github/tawhidwasik08/-tawhidwasik08-Multiclass-Text-Classifiction-with-Tensorflow-RoBERTa/blob/main/Multiclass_Sentiment_Classification.ipynb\" target=\"_parent\"><img src=\"https://colab.research.google.com/assets/colab-badge.svg\" alt=\"Open In Colab\"/></a>"
      ]
    },
    {
      "cell_type": "markdown",
      "metadata": {
        "id": "C48MNiZMQioL"
      },
      "source": [
        "####Libraries"
      ]
    },
    {
      "cell_type": "code",
      "metadata": {
        "id": "PrFNrbGhQgwa"
      },
      "source": [
        "# drive access\n",
        "from google.colab import drive\n",
        "drive.mount('/content/drive')\n",
        "\n",
        "import numpy as np\n",
        "import pandas as pd\n",
        "import re\n",
        "\n",
        "from sklearn.model_selection import train_test_split\n",
        "from sklearn.metrics import confusion_matrix, classification_report\n",
        "\n",
        "import seaborn as sns\n",
        "import matplotlib.pyplot as plt\n",
        "\n",
        "!pip install transformers\n",
        "from transformers import RobertaTokenizer, TFAutoModel, AdamWeightDecay \n",
        "\n",
        "import tensorflow as tf"
      ],
      "execution_count": null,
      "outputs": []
    },
    {
      "cell_type": "markdown",
      "metadata": {
        "id": "xmQgooSNRGqN"
      },
      "source": [
        "####Load Dataset\n"
      ]
    },
    {
      "cell_type": "markdown",
      "metadata": {
        "id": "Um_5jIx1fyhX"
      },
      "source": [
        "**Dataset Link :** https://www.kaggle.com/ankurzing/sentiment-analysis-for-financial-news"
      ]
    },
    {
      "cell_type": "markdown",
      "metadata": {
        "id": "yvPh8BfeYFPn"
      },
      "source": [
        "**Modification of dataset** : Change categorical text values to numerical values"
      ]
    },
    {
      "cell_type": "code",
      "metadata": {
        "id": "ijA1n-VFUXtV"
      },
      "source": [
        "def modify_df(dataset):\n",
        "    df = dataset.copy()\n",
        "\n",
        "    df['sentiment'] = df['sentiment'].apply(lambda x: 0 if x == 'negative' else x)\n",
        "    df['sentiment'] = df['sentiment'].apply(lambda x: 1 if x == 'neutral' else x)\n",
        "    df['sentiment'] = df['sentiment'].apply(lambda x: 2 if x == 'positive' else x)\n",
        "\n",
        "    return df \n",
        "\n",
        "\n",
        "def df_info(df,name):\n",
        "    negative = df[df.sentiment == 0].shape[0]\n",
        "    neutral = df[df.sentiment == 1].shape[0]\n",
        "    positive = df[df.sentiment == 2].shape[0]    \n",
        "\n",
        "    print(f\"\\n{name} -----> shape : {df.shape}\")\n",
        "    print(f\"{name} -----> negative: {negative}, neutral: {neutral}, positive: {positive}\\n\")\n",
        "\n",
        "    return None  "
      ],
      "execution_count": 2,
      "outputs": []
    },
    {
      "cell_type": "code",
      "metadata": {
        "colab": {
          "base_uri": "https://localhost:8080/"
        },
        "id": "1q1abQBCQ19S",
        "outputId": "4eec7050-f800-4697-8b0e-f8fc950a3d38"
      },
      "source": [
        "root = \"drive/MyDrive/Tensorflow Projects/Multiclass Sentiment Classification on Financial News/\"\n",
        "df = pd.read_csv(root + \"kaggle_dataset.csv\", header=None, sep=',', names=['sentiment', 'text'], engine='python')\n",
        "\n",
        "print(df.head())\n",
        "\n",
        "df = modify_df(df)\n",
        "df_info(df,\"original\")"
      ],
      "execution_count": 3,
      "outputs": [
        {
          "output_type": "stream",
          "text": [
            "  sentiment                                               text\n",
            "0   neutral  According to Gran , the company has no plans t...\n",
            "1   neutral  Technopolis plans to develop in stages an area...\n",
            "2  negative  The international electronic industry company ...\n",
            "3  positive  With the new production plant the company woul...\n",
            "4  positive  According to the company 's updated strategy f...\n",
            "\n",
            "original -----> shape : (4846, 2)\n",
            "original -----> negative:604, neutral: 2879, positive: 1363\n",
            "\n"
          ],
          "name": "stdout"
        }
      ]
    },
    {
      "cell_type": "markdown",
      "metadata": {
        "id": "uYrwMybzY5eA"
      },
      "source": [
        "The dataset is highly imbalanced. Very few negatives. More neutral than positives."
      ]
    },
    {
      "cell_type": "markdown",
      "metadata": {
        "id": "_72uKCFGYicS"
      },
      "source": [
        "**Split Dataset**: Split dataset into 3 sets : Train(90%), valid(5%), test(5%)"
      ]
    },
    {
      "cell_type": "code",
      "metadata": {
        "colab": {
          "base_uri": "https://localhost:8080/"
        },
        "id": "8uL_meW_PHhr",
        "outputId": "0fee6861-faab-43e6-b3e7-670f9ceaca04"
      },
      "source": [
        "train, valid_test = train_test_split(df, test_size = 0.1, shuffle=True)\n",
        "valid, test = train_test_split(valid_test, test_size = 0.5, shuffle=True)\n",
        "\n",
        "df_info(train, \"train\")\n",
        "df_info(valid, \"valid\")\n",
        "df_info(test, \"test\")\n",
        "\n",
        "\n",
        "x_train = train[[\"text\"]]\n",
        "y_train = train[[\"sentiment\"]]\n",
        "\n",
        "x_valid = valid[[\"text\"]]\n",
        "y_valid = valid[[\"sentiment\"]]\n",
        "\n",
        "\n",
        "x_test = test[[\"text\"]]\n",
        "y_test = test[[\"sentiment\"]]"
      ],
      "execution_count": 4,
      "outputs": [
        {
          "output_type": "stream",
          "text": [
            "\n",
            "train -----> shape : (4361, 2)\n",
            "train -----> negative:545, neutral: 2599, positive: 1217\n",
            "\n",
            "\n",
            "valid -----> shape : (242, 2)\n",
            "valid -----> negative:33, neutral: 134, positive: 75\n",
            "\n",
            "\n",
            "test -----> shape : (243, 2)\n",
            "test -----> negative:26, neutral: 146, positive: 71\n",
            "\n"
          ],
          "name": "stdout"
        }
      ]
    },
    {
      "cell_type": "markdown",
      "metadata": {
        "id": "36K8wpGvZK3n"
      },
      "source": [
        "Finding out how much max length of the sequences(texts) are."
      ]
    },
    {
      "cell_type": "code",
      "metadata": {
        "colab": {
          "base_uri": "https://localhost:8080/",
          "height": 408
        },
        "id": "JkxBtqa5qAbn",
        "outputId": "fe43c9ba-1596-4339-cea4-aa2617fe7fea"
      },
      "source": [
        "seqlen = x_train[\"text\"].apply(lambda x: len(x.split()))\n",
        "\n",
        "sns.set_style(\"darkgrid\")\n",
        "plt.figure(figsize=(8,5))\n",
        "sns.distplot(seqlen)"
      ],
      "execution_count": 5,
      "outputs": [
        {
          "output_type": "stream",
          "text": [
            "/usr/local/lib/python3.7/dist-packages/seaborn/distributions.py:2557: FutureWarning: `distplot` is a deprecated function and will be removed in a future version. Please adapt your code to use either `displot` (a figure-level function with similar flexibility) or `histplot` (an axes-level function for histograms).\n",
            "  warnings.warn(msg, FutureWarning)\n"
          ],
          "name": "stderr"
        },
        {
          "output_type": "execute_result",
          "data": {
            "text/plain": [
              "<matplotlib.axes._subplots.AxesSubplot at 0x7fdfeb0d6050>"
            ]
          },
          "metadata": {
            "tags": []
          },
          "execution_count": 5
        },
        {
          "output_type": "display_data",
          "data": {
            "image/png": "[encoded data removed]",
            "text/plain": [
              "<Figure size 576x360 with 1 Axes>"
            ]
          },
          "metadata": {
            "tags": []
          }
        }
      ]
    },
    {
      "cell_type": "markdown",
      "metadata": {
        "id": "bnjF-LgkZn54"
      },
      "source": [
        "#### Preprocessings"
      ]
    },
    {
      "cell_type": "markdown",
      "metadata": {
        "id": "-moxxtXwZlER"
      },
      "source": [
        "Some common preprocessing for the texts."
      ]
    },
    {
      "cell_type": "code",
      "metadata": {
        "id": "s4ebSI9oCo0i"
      },
      "source": [
        "puncts = [',', '.', '\"', ':', ')', '(', '-', '!', '?', '|', ';', \"'\", '$', '&', '/', '[', ']', '>', '%', '=', '#', '*', '+', '\\\\', '•',  '~', '@', '£', \n",
        " '·', '_', '{', '}', '©', '^', '®', '`',  '<', '→', '°', '€', '™', '›',  '♥', '←', '×', '§', '″', '′', 'Â', '█', '½', 'à', '…', \n",
        " '“', '★', '”', '–', '●', 'â', '►', '−', '¢', '²', '¬', '░', '¶', '↑', '±', '¿', '▾', '═', '¦', '║', '―', '¥', '▓', '—', '‹', '─', \n",
        " '▒', '：', '¼', '⊕', '▼', '▪', '†', '■', '’', '▀', '¨', '▄', '♫', '☆', 'é', '¯', '♦', '¤', '▲', 'è', '¸', '¾', 'Ã', '⋅', '‘', '∞', \n",
        " '∙', '）', '↓', '、', '│', '（', '»', '，', '♪', '╩', '╚', '³', '・', '╦', '╣', '╔', '╗', '▬', '❤', 'ï', 'Ø', '¹', '≤', '‡', '√', ]\n",
        "\n",
        "def preprocess_text(text):\n",
        "    def clean_text(x):\n",
        "        x = str(x)\n",
        "        for punct in puncts:\n",
        "            if punct in x:\n",
        "                x = x.replace(punct, f' {punct} ')\n",
        "        return x\n",
        "\n",
        "    def clean_numbers(x):\n",
        "        if bool(re.search(r'\\d', x)):\n",
        "            x = re.sub('[0-9]{5,}', '#####', x)\n",
        "            x = re.sub('[0-9]{4}', '####', x)\n",
        "            x = re.sub('[0-9]{3}', '###', x)\n",
        "            x = re.sub('[0-9]{2}', '##', x)\n",
        "        return x\n",
        "    \n",
        "    text = text.lower()\n",
        "    text = clean_text(text)\n",
        "    text = clean_numbers(text)\n",
        "\n",
        "    return text\n"
      ],
      "execution_count": 6,
      "outputs": []
    },
    {
      "cell_type": "code",
      "metadata": {
        "id": "fTN1qR3CCblW"
      },
      "source": [
        "def preprocess(df, text_col_name):\n",
        "\n",
        "    # lower and clean text\n",
        "    df[text_col_name] = df[text_col_name].apply(lambda x: preprocess_text(x))\n",
        "\n",
        "    # fill up the missing values\n",
        "    df[text_col_name] = df[text_col_name].fillna(\"_##_\")\n",
        "\n",
        "    return df"
      ],
      "execution_count": 7,
      "outputs": []
    },
    {
      "cell_type": "code",
      "metadata": {
        "colab": {
          "base_uri": "https://localhost:8080/"
        },
        "id": "eyADkxsBDqjU",
        "outputId": "4b5ea057-df53-461f-ff1d-92cede7412f0"
      },
      "source": [
        "x_train = preprocess(x_train.copy(), \"text\")\n",
        "x_valid = preprocess(x_valid.copy(), \"text\")\n",
        "\n",
        "print(x_train.head())"
      ],
      "execution_count": 8,
      "outputs": [
        {
          "output_type": "stream",
          "text": [
            "                                                   text\n",
            "1072  professional and consumer applications include...\n",
            "3445  vacon recently announced plans to build its no...\n",
            "3794  the company had net sales of eur ## . 8 millio...\n",
            "4198  huhtamaki  ' s rigid plastic consumer goods op...\n",
            "1764  the goal is to secure the company  ' s profita...\n"
          ],
          "name": "stdout"
        }
      ]
    },
    {
      "cell_type": "markdown",
      "metadata": {
        "id": "sl8uCMpyvhWk"
      },
      "source": [
        "####Tokenization with RoBERTa Tokenizer\n"
      ]
    },
    {
      "cell_type": "code",
      "metadata": {
        "id": "2y24MDq0rNt2"
      },
      "source": [
        "SEQ_LEN = 80\n",
        "\n",
        "tokenizer = RobertaTokenizer.from_pretrained(\"roberta-base\")"
      ],
      "execution_count": 9,
      "outputs": []
    },
    {
      "cell_type": "code",
      "metadata": {
        "id": "h96RN4ul8O_5",
        "colab": {
          "base_uri": "https://localhost:8080/"
        },
        "outputId": "9e53f86e-576e-4248-a04f-37bbd1d080e9"
      },
      "source": [
        "def tokenize(df):\n",
        "    input_ids =  []\n",
        "    attention_masks =  []\n",
        "    \n",
        "    for i, text in enumerate(df[\"text\"]):\n",
        "        tokens = tokenizer.encode_plus(text, max_length=SEQ_LEN,\n",
        "                                   truncation=True, padding='max_length',\n",
        "                                   add_special_tokens=True, return_attention_mask=True,\n",
        "                                   return_token_type_ids=False, return_tensors='tf')   \n",
        "         \n",
        "        input_ids.append(np.asarray(tokens[\"input_ids\"]).reshape(SEQ_LEN,))\n",
        "        attention_masks.append(np.asarray(tokens[\"attention_mask\"]).reshape(SEQ_LEN,))\n",
        "\n",
        "    return (np.asarray(input_ids), np.asarray(attention_masks))\n",
        "\n",
        "train_input_ids, train_attention_masks = tokenize(x_train)\n",
        "valid_input_ids, valid_attention_masks = tokenize(x_valid)\n",
        "\n",
        "print(train_input_ids[0])"
      ],
      "execution_count": 10,
      "outputs": [
        {
          "output_type": "stream",
          "text": [
            "[    0 23878     8  2267  2975   680  1081 14461  1437  2156  1437  1081\n",
            "  1078  1437  2156  1437   882     8 32209  1052  1437  2156  1437     8\n",
            "  3440  6779  1437   479  1437     2     1     1     1     1     1     1\n",
            "     1     1     1     1     1     1     1     1     1     1     1     1\n",
            "     1     1     1     1     1     1     1     1     1     1     1     1\n",
            "     1     1     1     1     1     1     1     1     1     1     1     1\n",
            "     1     1     1     1     1     1     1     1]\n"
          ],
          "name": "stdout"
        }
      ]
    },
    {
      "cell_type": "markdown",
      "metadata": {
        "id": "m6F3Eci5Z6dO"
      },
      "source": [
        "#### One hot encoding for the labels"
      ]
    },
    {
      "cell_type": "code",
      "metadata": {
        "id": "PMbOHglNEqub"
      },
      "source": [
        "def one_encode_labels(df):\n",
        "    sentiment_values = set(df[\"sentiment\"].values)\n",
        "    labels = []\n",
        "    for index, row in df.iterrows():\n",
        "        label = np.zeros((len(sentiment_values)))\n",
        "        label[row[\"sentiment\"]] = 1 \n",
        "        labels.append(label)\n",
        "    labels = np.asarray(labels)\n",
        "    return labels"
      ],
      "execution_count": 11,
      "outputs": []
    },
    {
      "cell_type": "code",
      "metadata": {
        "id": "8YiM-gcFBwg5",
        "colab": {
          "base_uri": "https://localhost:8080/"
        },
        "outputId": "8417f70e-3513-49a2-9cd7-bbe0e99793e5"
      },
      "source": [
        "y_train = one_encode_labels(y_train)\n",
        "y_valid = one_encode_labels(y_valid)\n",
        "\n",
        "print(y_train[0])"
      ],
      "execution_count": 12,
      "outputs": [
        {
          "output_type": "stream",
          "text": [
            "[0. 1. 0.]\n"
          ],
          "name": "stdout"
        }
      ]
    },
    {
      "cell_type": "markdown",
      "metadata": {
        "id": "-5Vc1d6w5I47"
      },
      "source": [
        "#### Model Defining\n"
      ]
    },
    {
      "cell_type": "code",
      "metadata": {
        "id": "aaQ1TFWHdYTS",
        "colab": {
          "base_uri": "https://localhost:8080/"
        },
        "outputId": "b62f37c3-e35b-4616-bf43-1e95712d9aba"
      },
      "source": [
        "roberta = TFAutoModel.from_pretrained(\"roberta-base\")"
      ],
      "execution_count": 13,
      "outputs": [
        {
          "output_type": "stream",
          "text": [
            "Some layers from the model checkpoint at roberta-base were not used when initializing TFRobertaModel: ['lm_head']\n",
            "- This IS expected if you are initializing TFRobertaModel from the checkpoint of a model trained on another task or with another architecture (e.g. initializing a BertForSequenceClassification model from a BertForPreTraining model).\n",
            "- This IS NOT expected if you are initializing TFRobertaModel from the checkpoint of a model that you expect to be exactly identical (initializing a BertForSequenceClassification model from a BertForSequenceClassification model).\n",
            "All the layers of TFRobertaModel were initialized from the model checkpoint at roberta-base.\n",
            "If your task is similar to the task the model of the checkpoint was trained on, you can already use TFRobertaModel for predictions without further training.\n"
          ],
          "name": "stderr"
        }
      ]
    },
    {
      "cell_type": "code",
      "metadata": {
        "colab": {
          "base_uri": "https://localhost:8080/"
        },
        "id": "5utS14PEHWvy",
        "outputId": "1e8a326a-6a81-4742-a1b9-1939361f28d5"
      },
      "source": [
        "input_ids = tf.keras.layers.Input(shape=(SEQ_LEN,), name='input_ids', dtype='int32')\n",
        "mask = tf.keras.layers.Input(shape=(SEQ_LEN,), name='attention_mask', dtype='int32')\n",
        "\n",
        "embeddings = roberta(input_ids, attention_mask=mask)[0]\n",
        "\n",
        "X = tf.keras.layers.LSTM(128)(embeddings)\n",
        "X = tf.keras.layers.BatchNormalization()(X)\n",
        "X = tf.keras.layers.Dense(768)(X)\n",
        "X = tf.keras.layers.Activation(\"relu\")(X)\n",
        "X = tf.keras.layers.Dense(768)(X)\n",
        "X = tf.keras.layers.Dropout(0.1)(X)\n",
        "y = tf.keras.layers.Dense(3, activation='softmax', name='outputs')(X)\n",
        "\n",
        "model = tf.keras.Model(inputs=[input_ids, mask], outputs=y)\n",
        "model.layers[2].trainable = False\n",
        "model.summary()"
      ],
      "execution_count": 14,
      "outputs": [
        {
          "output_type": "stream",
          "text": [
            "WARNING:tensorflow:The parameters `output_attentions`, `output_hidden_states` and `use_cache` cannot be updated when calling a model.They have to be set to True/False in the config object (i.e.: `config=XConfig.from_pretrained('name', output_attentions=True)`).\n",
            "WARNING:tensorflow:AutoGraph could not transform <bound method Socket.send of <zmq.sugar.socket.Socket object at 0x7fe0860c7d00>> and will run it as-is.\n",
            "Please report this to the TensorFlow team. When filing the bug, set the verbosity to 10 (on Linux, `export AUTOGRAPH_VERBOSITY=10`) and attach the full output.\n",
            "Cause: module, class, method, function, traceback, frame, or code object was expected, got cython_function_or_method\n",
            "To silence this warning, decorate the function with @tf.autograph.experimental.do_not_convert\n",
            "WARNING: AutoGraph could not transform <bound method Socket.send of <zmq.sugar.socket.Socket object at 0x7fe0860c7d00>> and will run it as-is.\n",
            "Please report this to the TensorFlow team. When filing the bug, set the verbosity to 10 (on Linux, `export AUTOGRAPH_VERBOSITY=10`) and attach the full output.\n",
            "Cause: module, class, method, function, traceback, frame, or code object was expected, got cython_function_or_method\n",
            "To silence this warning, decorate the function with @tf.autograph.experimental.do_not_convert\n",
            "WARNING:tensorflow:AutoGraph could not transform <function wrap at 0x7fe0a196fd40> and will run it as-is.\n",
            "Cause: while/else statement not yet supported\n",
            "To silence this warning, decorate the function with @tf.autograph.experimental.do_not_convert\n",
            "WARNING: AutoGraph could not transform <function wrap at 0x7fe0a196fd40> and will run it as-is.\n",
            "Cause: while/else statement not yet supported\n",
            "To silence this warning, decorate the function with @tf.autograph.experimental.do_not_convert\n",
            "WARNING:tensorflow:The parameter `return_dict` cannot be set in graph mode and will always be set to `True`.\n",
            "Model: \"model\"\n",
            "__________________________________________________________________________________________________\n",
            "Layer (type)                    Output Shape         Param #     Connected to                     \n",
            "==================================================================================================\n",
            "input_ids (InputLayer)          [(None, 80)]         0                                            \n",
            "__________________________________________________________________________________________________\n",
            "attention_mask (InputLayer)     [(None, 80)]         0                                            \n",
            "__________________________________________________________________________________________________\n",
            "tf_roberta_model (TFRobertaMode TFBaseModelOutputWit 124645632   input_ids[0][0]                  \n",
            "                                                                 attention_mask[0][0]             \n",
            "__________________________________________________________________________________________________\n",
            "lstm (LSTM)                     (None, 128)          459264      tf_roberta_model[0][0]           \n",
            "__________________________________________________________________________________________________\n",
            "batch_normalization (BatchNorma (None, 128)          512         lstm[0][0]                       \n",
            "__________________________________________________________________________________________________\n",
            "dense (Dense)                   (None, 768)          99072       batch_normalization[0][0]        \n",
            "__________________________________________________________________________________________________\n",
            "activation (Activation)         (None, 768)          0           dense[0][0]                      \n",
            "__________________________________________________________________________________________________\n",
            "dense_1 (Dense)                 (None, 768)          590592      activation[0][0]                 \n",
            "__________________________________________________________________________________________________\n",
            "dropout_37 (Dropout)            (None, 768)          0           dense_1[0][0]                    \n",
            "__________________________________________________________________________________________________\n",
            "outputs (Dense)                 (None, 3)            2307        dropout_37[0][0]                 \n",
            "==================================================================================================\n",
            "Total params: 125,797,379\n",
            "Trainable params: 1,151,491\n",
            "Non-trainable params: 124,645,888\n",
            "__________________________________________________________________________________________________\n"
          ],
          "name": "stdout"
        }
      ]
    },
    {
      "cell_type": "markdown",
      "metadata": {
        "id": "6piVu6y4aMl3"
      },
      "source": [
        "#### Compile and training of model"
      ]
    },
    {
      "cell_type": "code",
      "metadata": {
        "id": "G27X4o_jItIo"
      },
      "source": [
        "optimizer = AdamWeightDecay(2e-03, beta_1=0.8, beta_2=0.9, weight_decay_rate=0.0001)\n",
        "loss = tf.keras.losses.CategoricalCrossentropy()\n",
        "acc = tf.keras.metrics.CategoricalAccuracy('accuracy')\n",
        "\n",
        "model.compile(optimizer=optimizer, loss=loss, metrics=[acc])"
      ],
      "execution_count": 15,
      "outputs": []
    },
    {
      "cell_type": "code",
      "metadata": {
        "colab": {
          "base_uri": "https://localhost:8080/"
        },
        "id": "1R6Q0V-FJfNz",
        "outputId": "24549bdd-e369-41da-9ced-d32fd39df600"
      },
      "source": [
        "history = model.fit((train_input_ids, train_attention_masks),y_train, validation_data=((valid_input_ids,valid_attention_masks), y_valid), epochs=10, batch_size=32)"
      ],
      "execution_count": 16,
      "outputs": [
        {
          "output_type": "stream",
          "text": [
            "Epoch 1/10\n",
            "WARNING:tensorflow:The parameters `output_attentions`, `output_hidden_states` and `use_cache` cannot be updated when calling a model.They have to be set to True/False in the config object (i.e.: `config=XConfig.from_pretrained('name', output_attentions=True)`).\n",
            "WARNING:tensorflow:The parameter `return_dict` cannot be set in graph mode and will always be set to `True`.\n",
            "WARNING:tensorflow:The parameters `output_attentions`, `output_hidden_states` and `use_cache` cannot be updated when calling a model.They have to be set to True/False in the config object (i.e.: `config=XConfig.from_pretrained('name', output_attentions=True)`).\n",
            "WARNING:tensorflow:The parameter `return_dict` cannot be set in graph mode and will always be set to `True`.\n",
            "137/137 [==============================] - ETA: 0s - loss: 1.2131 - accuracy: 0.5623WARNING:tensorflow:The parameters `output_attentions`, `output_hidden_states` and `use_cache` cannot be updated when calling a model.They have to be set to True/False in the config object (i.e.: `config=XConfig.from_pretrained('name', output_attentions=True)`).\n",
            "WARNING:tensorflow:The parameter `return_dict` cannot be set in graph mode and will always be set to `True`.\n",
            "137/137 [==============================] - 35s 163ms/step - loss: 1.2114 - accuracy: 0.5625 - val_loss: 0.8711 - val_accuracy: 0.5950\n",
            "Epoch 2/10\n",
            "137/137 [==============================] - 19s 141ms/step - loss: 0.7375 - accuracy: 0.6671 - val_loss: 0.8922 - val_accuracy: 0.6281\n",
            "Epoch 3/10\n",
            "137/137 [==============================] - 19s 140ms/step - loss: 0.6098 - accuracy: 0.7356 - val_loss: 0.7069 - val_accuracy: 0.6942\n",
            "Epoch 4/10\n",
            "137/137 [==============================] - 19s 140ms/step - loss: 0.4835 - accuracy: 0.8143 - val_loss: 0.5658 - val_accuracy: 0.8223\n",
            "Epoch 5/10\n",
            "137/137 [==============================] - 19s 140ms/step - loss: 0.4167 - accuracy: 0.8269 - val_loss: 1.1285 - val_accuracy: 0.7810\n",
            "Epoch 6/10\n",
            "137/137 [==============================] - 19s 140ms/step - loss: 0.3725 - accuracy: 0.8529 - val_loss: 0.6884 - val_accuracy: 0.8347\n",
            "Epoch 7/10\n",
            "137/137 [==============================] - 19s 141ms/step - loss: 0.3550 - accuracy: 0.8631 - val_loss: 1.0243 - val_accuracy: 0.8017\n",
            "Epoch 8/10\n",
            "137/137 [==============================] - 19s 140ms/step - loss: 0.3487 - accuracy: 0.8616 - val_loss: 0.6282 - val_accuracy: 0.8058\n",
            "Epoch 9/10\n",
            "137/137 [==============================] - 19s 140ms/step - loss: 0.2984 - accuracy: 0.8764 - val_loss: 0.6107 - val_accuracy: 0.8264\n",
            "Epoch 10/10\n",
            "137/137 [==============================] - 19s 141ms/step - loss: 0.2777 - accuracy: 0.8903 - val_loss: 1.3193 - val_accuracy: 0.8058\n"
          ],
          "name": "stdout"
        }
      ]
    },
    {
      "cell_type": "markdown",
      "metadata": {
        "id": "PCuo7i92aSei"
      },
      "source": [
        "#### Prediction and classification result"
      ]
    },
    {
      "cell_type": "code",
      "metadata": {
        "id": "PBdujxO4JyVB"
      },
      "source": [
        "tokenizer =  RobertaTokenizer.from_pretrained(\"roberta-base\")\n",
        "\n",
        "# predictions need to go through same preprocessings\n",
        "def prep_data(text):\n",
        "    text = preprocess_text(text)\n",
        "\n",
        "    tokens = tokenizer.encode_plus(text, max_length=80,\n",
        "                                   truncation=True, padding='max_length',\n",
        "                                   add_special_tokens=True, return_token_type_ids=False,\n",
        "                                   return_tensors='tf')\n",
        "\n",
        "    return {'input_ids': tf.cast(tokens['input_ids'], tf.float64),\n",
        "            'attention_mask': tf.cast(tokens['attention_mask'], tf.float64)}\n",
        "\n",
        "def predict(text):\n",
        "    in_tensor = prep_data(text)\n",
        "    probs = model.predict(in_tensor)[0]\n",
        "    return (np.argmax(probs))"
      ],
      "execution_count": 17,
      "outputs": []
    },
    {
      "cell_type": "code",
      "metadata": {
        "id": "KgJX51kuinRQ"
      },
      "source": [
        "predictions = np.asarray(x_test[\"text\"].apply(lambda x: predict(x)))\n",
        "test_vals = np.asarray(y_test[\"sentiment\"])"
      ],
      "execution_count": null,
      "outputs": []
    },
    {
      "cell_type": "code",
      "metadata": {
        "colab": {
          "base_uri": "https://localhost:8080/",
          "height": 470
        },
        "id": "EeBn6-1iSiSE",
        "outputId": "715935f3-a86c-4fd2-ae03-1cd15e8c0603"
      },
      "source": [
        "confusion = confusion_matrix(test_vals, predictions)\n",
        "\n",
        "# plot confusion matrix\n",
        "sns.set(font_scale=1.0)\n",
        "labels = [\"bad\", \"neutral\", \"good\"]\n",
        "ax = sns.heatmap(confusion, annot=True, annot_kws={\"size\": 11}, fmt='d', vmin = 0, cmap='Blues', yticklabels=labels, xticklabels=labels)\n",
        "ax.set_xlabel('Predicted Class')   \n",
        "ax.set_ylabel('True Class')   \n",
        "ax.xaxis.set_label_position('top')\n",
        "ax.xaxis.tick_top()\n",
        "plt.show()\n",
        "\n",
        "# print classification report\n",
        "report = classification_report(test_vals, predictions, digits = 4, output_dict=False, target_names=[\"bad\", \"neutral\", \"good\"],)\n",
        "print(report)"
      ],
      "execution_count": 19,
      "outputs": [
        {
          "output_type": "display_data",
          "data": {
            "image/png": "[encoded data removed]",
            "text/plain": [
              "<Figure size 432x288 with 2 Axes>"
            ]
          },
          "metadata": {
            "tags": []
          }
        },
        {
          "output_type": "stream",
          "text": [
            "              precision    recall  f1-score   support\n",
            "\n",
            "         bad     1.0000    0.5000    0.6667        26\n",
            "     neutral     0.8155    0.9384    0.8726       146\n",
            "        good     0.7903    0.6901    0.7368        71\n",
            "\n",
            "    accuracy                         0.8189       243\n",
            "   macro avg     0.8686    0.7095    0.7587       243\n",
            "weighted avg     0.8279    0.8189    0.8109       243\n",
            "\n"
          ],
          "name": "stdout"
        }
      ]
    }
  ]
}